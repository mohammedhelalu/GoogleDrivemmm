{
  "nbformat": 4,
  "nbformat_minor": 0,
  "metadata": {
    "colab": {
      "provenance": [],
      "authorship_tag": "ABX9TyMSGCd8cvmN5OkqOYnfVJP8",
      "include_colab_link": true
    },
    "kernelspec": {
      "name": "python3",
      "display_name": "Python 3"
    },
    "language_info": {
      "name": "python"
    }
  },
  "cells": [
    {
      "cell_type": "markdown",
      "metadata": {
        "id": "view-in-github",
        "colab_type": "text"
      },
      "source": [
        "<a href=\"https://colab.research.google.com/github/mohammedhelalu/GoogleDrivemmm/blob/main/%D9%85%D9%83%D8%AA%D8%A8%D8%A9_%D8%B5%D8%A7%D9%8A%D8%A8%D8%A7%D9%8A_Scipy.ipynb\" target=\"_parent\"><img src=\"https://colab.research.google.com/assets/colab-badge.svg\" alt=\"Open In Colab\"/></a>"
      ]
    },
    {
      "cell_type": "code",
      "execution_count": 1,
      "metadata": {
        "colab": {
          "base_uri": "https://localhost:8080/"
        },
        "id": "6ARTJMUt2dJl",
        "outputId": "a71a787d-816a-42b3-d3cf-5e754e5d4ad7"
      },
      "outputs": [
        {
          "output_type": "stream",
          "name": "stdout",
          "text": [
            "(-1.3061484200406244, -7.94582288025181, 0, 11)\n"
          ]
        }
      ],
      "source": [
        "\n",
        "\n",
        "import numpy as np\n",
        "import scipy as sc\n",
        "\n",
        "\n",
        "def f(x):\n",
        "    return x**2 + 10*np.sin(x)\n",
        "\n",
        "a = sc.optimize.fminbound(f,# function\n",
        "                          x1 = -10,# first bound \n",
        "                          x2 = 10,#second bound\n",
        "                          xtol = 0.01, # Max Tolerance\n",
        "                          full_output = True,# details \n",
        "                          disp = 1 ) #show only numbers\n",
        "\n",
        "print(a)\n"
      ]
    },
    {
      "cell_type": "code",
      "source": [
        "\n",
        "\n",
        "import numpy as np\n",
        "import scipy as sc\n",
        "\n",
        "def f(x):\n",
        "    return x**2 + 10*np.sin(x)\n",
        "a = sc.optimize.fminbound(f,# function\n",
        "                          x1 = -10,# first bound \n",
        "                          x2 = 10,#second bound\n",
        "                          xtol = 0.01, # Max Tolerance\n",
        "                          full_output = True,# details \n",
        "                          disp = 2 ) #show some details\n",
        "\n",
        "print(a)\n"
      ],
      "metadata": {
        "colab": {
          "base_uri": "https://localhost:8080/"
        },
        "id": "sQCQiLJO2h-k",
        "outputId": "911170fc-9bb5-41bd-cf74-fa38ba02d55d"
      },
      "execution_count": 2,
      "outputs": [
        {
          "output_type": "stream",
          "name": "stdout",
          "text": [
            "\n",
            "Optimization terminated successfully;\n",
            "The returned value satisfies the termination criteria\n",
            "(using xtol =  0.01 )\n",
            "(-1.3061484200406244, -7.94582288025181, 0, 11)\n"
          ]
        }
      ]
    },
    {
      "cell_type": "code",
      "source": [
        "import numpy as np\n",
        "import scipy as sc\n",
        "\n",
        "def f(x):\n",
        "    return x**2 + 10*np.sin(x)\n",
        "\n",
        "a = sc.optimize.fminbound(f,# function\n",
        "                          x1 = -10,# first bound \n",
        "                          x2 = 10,#second bound\n",
        "                          xtol = 0.01, # Max Tolerance\n",
        "                          full_output = True,# details \n",
        "                          disp = 3 ) #show iterations\n",
        "\n",
        "print(a)\n"
      ],
      "metadata": {
        "colab": {
          "base_uri": "https://localhost:8080/"
        },
        "id": "JyTN4IZ43rJO",
        "outputId": "5eb52cb3-121f-4471-8cf7-ee3e28c65ec9"
      },
      "execution_count": 3,
      "outputs": [
        {
          "output_type": "stream",
          "name": "stdout",
          "text": [
            " \n",
            " Func-count     x          f(x)          Procedure\n",
            "    1       -2.36068     -1.46647        initial\n",
            "    2        2.36068      12.6121        golden\n",
            "    3       -5.27864      36.3032        golden\n",
            "    4      -0.715181     -6.04606        parabolic\n",
            "    5      -0.795481     -6.50921        parabolic\n",
            "    6       -1.28322     -7.94269        parabolic\n",
            "    7       -1.69477     -7.05101        golden\n",
            "    8       -1.29818     -7.94543        parabolic\n",
            "    9       -1.30615     -7.94582        parabolic\n",
            "   10       -1.30948     -7.94577        parabolic\n",
            "   11       -1.30282     -7.94575        parabolic\n",
            "\n",
            "Optimization terminated successfully;\n",
            "The returned value satisfies the termination criteria\n",
            "(using xtol =  0.01 )\n",
            "(-1.3061484200406244, -7.94582288025181, 0, 11)\n"
          ]
        }
      ]
    },
    {
      "cell_type": "code",
      "source": [
        "\n",
        "\n",
        "\n",
        "from scipy import optimize\n",
        "\n",
        "def a(x):\n",
        "    return (x)\n",
        "def b(x):\n",
        "    return (x**2)\n",
        "def c(x):\n",
        "    return (x**3)\n",
        "def d(x):\n",
        "    return (x**2 - 4*x + 1)\n",
        "def e(x):\n",
        "    return (x**3 + x**2 - 4*x - 3)\n",
        "def f(x):\n",
        "    return (1/x)\n",
        "\n",
        "amin = optimize.fminbound(a, -4, 4)\n",
        "print(amin)\n",
        "bmin = optimize.fminbound(b, -4, 4)\n",
        "print(bmin)\n",
        "cmin = optimize.fminbound(c, -4, 4)\n",
        "print(cmin)\n",
        "dmin = optimize.fminbound(d, -4, 4)\n",
        "print(dmin)\n",
        "emin = optimize.fminbound(e, -4, 4)\n",
        "print(emin)\n",
        "fmin = optimize.fminbound(f, -4, 4)\n",
        "print(fmin)\n",
        "\n",
        "\n"
      ],
      "metadata": {
        "colab": {
          "base_uri": "https://localhost:8080/"
        },
        "id": "yQmNwmFh4P0h",
        "outputId": "89d66db4-ce82-443d-d3c9-e62049f084e2"
      },
      "execution_count": 4,
      "outputs": [
        {
          "output_type": "stream",
          "name": "stdout",
          "text": [
            "-3.999996435239639\n",
            "-1.1102230246251565e-16\n",
            "-3.999996435239639\n",
            "2.0\n",
            "0.868518564878511\n",
            "-2.1499620000850844e-06\n"
          ]
        }
      ]
    },
    {
      "cell_type": "code",
      "source": [
        "\n",
        "\n",
        "import matplotlib.pyplot as plt\n",
        "import numpy as np\n",
        "import scipy as sc\n",
        "def f(x):\n",
        "    return x**2 + 10*np.sin(x)\n",
        "\n",
        "x = np.arange(-10, 10, 0.1)\n",
        "plt.plot(x, f(x))\n",
        "plt.show()\n",
        "\n",
        "\n",
        "a = sc.optimize.fmin_bfgs(f, #function\n",
        "                          x0 = 50 , # a value to start\n",
        "                          epsilon = 10 ,  # step\n",
        "                          disp = 1 , # if 1 then display full details\n",
        "                          retall = 1 ,# if 1 then display all iterations\n",
        "                          maxiter = 2 ) #max no. if ierations\n",
        "print(a)\n",
        "\n"
      ],
      "metadata": {
        "colab": {
          "base_uri": "https://localhost:8080/",
          "height": 373
        },
        "id": "gpnrMQav4k8H",
        "outputId": "69a6a104-867d-423d-cff8-d4f58aaf3a5c"
      },
      "execution_count": 5,
      "outputs": [
        {
          "output_type": "display_data",
          "data": {
            "text/plain": [
              "<Figure size 432x288 with 1 Axes>"
            ],
            "image/png": "[encoded data removed]"
          },
          "metadata": {
            "needs_background": "light"
          }
        },
        {
          "output_type": "stream",
          "name": "stdout",
          "text": [
            "Warning: Maximum number of iterations has been exceeded.\n",
            "         Current function value: 1239.195121\n",
            "         Iterations: 2\n",
            "         Function evaluations: 8\n",
            "         Gradient evaluations: 4\n",
            "(array([35.29788524]), [array([50]), array([44.95]), array([35.29788524])])\n"
          ]
        }
      ]
    },
    {
      "cell_type": "code",
      "source": [
        "\n",
        "\n",
        "import matplotlib.pyplot as plt\n",
        "import numpy as np\n",
        "import scipy as sc\n",
        "def f(x):\n",
        "    return x**2 + 10*np.sin(x)\n",
        "\n",
        "x = np.arange(-10, 10, 0.1)\n",
        "plt.plot(x, f(x))\n",
        "plt.show()\n",
        "\n",
        "\n",
        "a = sc.optimize.fmin_bfgs(f, #function\n",
        "                          x0 = 50 , # a value to start\n",
        "                          epsilon = 0.1 ,  # step\n",
        "                          disp = 1 , # if 1 then display full details\n",
        "                          retall = 1 ,# if 1 then display all iterations\n",
        "                          maxiter = 20 ) #max no. if ierations\n",
        "print(a)\n",
        "\n"
      ],
      "metadata": {
        "colab": {
          "base_uri": "https://localhost:8080/",
          "height": 393
        },
        "id": "j2Yt6J2L4-Fy",
        "outputId": "0fac8a84-d4df-4d80-ab23-6eaba5c674b9"
      },
      "execution_count": 6,
      "outputs": [
        {
          "output_type": "display_data",
          "data": {
            "text/plain": [
              "<Figure size 432x288 with 1 Axes>"
            ],
            "image/png": "[encoded data removed]"
          },
          "metadata": {
            "needs_background": "light"
          }
        },
        {
          "output_type": "stream",
          "name": "stdout",
          "text": [
            "Warning: Desired error not necessarily achieved due to precision loss.\n",
            "         Current function value: -7.931319\n",
            "         Iterations: 7\n",
            "         Function evaluations: 86\n",
            "         Gradient evaluations: 37\n",
            "(array([-1.3562454]), [array([50]), array([44.95]), array([35.01154003]), array([17.00942323]), array([-2.5328942]), array([-1.21948726]), array([-1.36193066]), array([-1.3562454])])\n"
          ]
        }
      ]
    },
    {
      "cell_type": "code",
      "source": [
        "\n",
        "\n",
        "import matplotlib.pyplot as plt\n",
        "import numpy as np\n",
        "import scipy as sc\n",
        "\n",
        "def f(x):\n",
        "    return x**2 + 10*np.sin(x)\n",
        "\n",
        "x = np.arange(-10, 10, 0.1)\n",
        "plt.plot(x, f(x))\n",
        "plt.show()\n",
        "\n",
        "a = sc.optimize.basinhopping(f,  #function\n",
        "                             x0 = 70 ,# a value to start\n",
        "                             niter = 20 , #max no. if ierations\n",
        "                             stepsize = .2 ,# step\n",
        "                             disp = 0) # if 1 then display full details\n",
        "print(a)\n",
        "\n"
      ],
      "metadata": {
        "colab": {
          "base_uri": "https://localhost:8080/",
          "height": 590
        },
        "id": "WhPINzEv5k_x",
        "outputId": "a0111aa7-77ee-4179-8648-e306f25c31e6"
      },
      "execution_count": 7,
      "outputs": [
        {
          "output_type": "display_data",
          "data": {
            "text/plain": [
              "<Figure size 432x288 with 1 Axes>"
            ],
            "image/png": "[encoded data removed]"
          },
          "metadata": {
            "needs_background": "light"
          }
        },
        {
          "output_type": "stream",
          "name": "stdout",
          "text": [
            "                    message: ['requested number of basinhopping iterations completed successfully']\n",
            "                    success: True\n",
            "                        fun: -7.945823375615284\n",
            "                          x: [-1.306e+00]\n",
            "                        nit: 20\n",
            "      minimization_failures: 0\n",
            "                       nfev: 216\n",
            "                       njev: 108\n",
            " lowest_optimization_result:  message: Optimization terminated successfully.\n",
            "                              success: True\n",
            "                               status: 0\n",
            "                                  fun: -7.945823375615284\n",
            "                                    x: [-1.306e+00]\n",
            "                                  nit: 8\n",
            "                                  jac: [ 1.192e-07]\n",
            "                             hess_inv: [[ 8.581e-02]]\n",
            "                                 nfev: 22\n",
            "                                 njev: 11\n"
          ]
        }
      ]
    },
    {
      "cell_type": "code",
      "source": [
        "\n",
        "\n",
        "import numpy as np\n",
        "import scipy as sc\n",
        "\n",
        "\n",
        "def func2d(x):\n",
        "    f = np.cos(14.5*x[0]-0.3)+(x[1]+0.2)*x[1]+(x[0]+0.2)*x[0]\n",
        "    df = np.zeros(2)\n",
        "    return f, df\n",
        "\n",
        "x0 = [1.0, 1.0]\n",
        "ret = sc.optimize.basinhopping(\n",
        "        func2d,\n",
        "        x0, \n",
        "        minimizer_kwargs={\"method\":\"L-BFGS-B\", \"jac\":True},\n",
        "        niter=2000)\n",
        "\n",
        "print(\"global minimum: x = [%.4f, %.4f], f(x0) = %.4f\" % \n",
        "      (ret.x[0],ret.x[1],ret.fun))\n",
        "\n"
      ],
      "metadata": {
        "colab": {
          "base_uri": "https://localhost:8080/"
        },
        "id": "Wou7JQaf6Bjr",
        "outputId": "79e77aef-d67f-4212-f164-3b0a42a6d808"
      },
      "execution_count": 8,
      "outputs": [
        {
          "output_type": "stream",
          "name": "stdout",
          "text": [
            "global minimum: x = [-0.2025, -0.2796], f(x0) = -0.9728\n"
          ]
        }
      ]
    },
    {
      "cell_type": "code",
      "source": [
        "import scipy as sc\n",
        "\n",
        "def f(x):\n",
        "    return x**2 - 2*x -15\n",
        "\n",
        "a = sc.optimize.fsolve(f,x0 = 10 , full_output=False )\n",
        "print(a)"
      ],
      "metadata": {
        "colab": {
          "base_uri": "https://localhost:8080/"
        },
        "id": "rGy1zfT762ad",
        "outputId": "e3b8afe4-2667-4a5e-dd30-4e97668ec31f"
      },
      "execution_count": 9,
      "outputs": [
        {
          "output_type": "stream",
          "name": "stdout",
          "text": [
            "[5.]\n"
          ]
        }
      ]
    },
    {
      "cell_type": "code",
      "source": [
        "\n",
        "import scipy as sc\n",
        "def f(x):\n",
        "    return x**2 - 2*x -15\n",
        "\n",
        "a = sc.optimize.fsolve(f,x0 = 10 , full_output=True )\n",
        "\n",
        "print(a)\n"
      ],
      "metadata": {
        "colab": {
          "base_uri": "https://localhost:8080/"
        },
        "id": "Ey37kW6L7WlF",
        "outputId": "0eb992c6-103d-44d8-d0b7-d48a1ce71512"
      },
      "execution_count": 10,
      "outputs": [
        {
          "output_type": "stream",
          "name": "stdout",
          "text": [
            "(array([5.]), {'nfev': 9, 'fjac': array([[-1.]]), 'r': array([-8.00003226]), 'qtf': array([-1.23520701e-07]), 'fvec': array([4.97379915e-13])}, 1, 'The solution converged.')\n"
          ]
        }
      ]
    },
    {
      "cell_type": "code",
      "source": [
        "\n",
        "import numpy as np\n",
        "import matplotlib.pyplot as plt\n",
        "from scipy.optimize import curve_fit\n",
        "#function\n",
        "def func(x, a, b, c):\n",
        "    return a * np.exp(-b * x) + c\n",
        "#random values of X \n",
        "xdata = np.linspace(0, 4, 50)\n",
        "y = func(xdata, 2.5, 1.3, 0.5)\n",
        "np.random.seed(1729)\n",
        "# y noise\n",
        "y_noise = 0.2 * np.random.normal(size=xdata.size)\n",
        "ydata = y + y_noise\n",
        "plt.plot(xdata, ydata, 'b-', label='data')  # draw the blue line\n",
        "\n",
        "popt, pcov = curve_fit(func, xdata, ydata) #fitting\n",
        "plt.plot(xdata, func(xdata, *popt), 'r-', #draw the red line\n",
        "         label='fit: a=%5.3f, b=%5.3f, c=%5.3f' % tuple(popt))\n",
        "\n",
        "#fit with bounds\n",
        "popt, pcov =curve_fit(func,xdata,ydata,bounds=(0,[3., 1., 0.5]))\n",
        "plt.plot(xdata, func(xdata, *popt),  #draw the green line\n",
        "         'g--',label='fit: a=%5.3f, b=%5.3f, c=%5.3f' % tuple(popt))\n",
        "\n",
        "plt.xlabel('x')\n",
        "plt.ylabel('y')\n",
        "plt.legend()\n",
        "plt.show()\n",
        "\n"
      ],
      "metadata": {
        "colab": {
          "base_uri": "https://localhost:8080/",
          "height": 279
        },
        "id": "iHStJq-wCEJp",
        "outputId": "09631c4c-65c4-4492-9b15-cd47a68beb36"
      },
      "execution_count": 11,
      "outputs": [
        {
          "output_type": "display_data",
          "data": {
            "text/plain": [
              "<Figure size 432x288 with 1 Axes>"
            ],
            "image/png": "[encoded data removed]"
          },
          "metadata": {
            "needs_background": "light"
          }
        }
      ]
    },
    {
      "cell_type": "code",
      "source": [
        "\n",
        "\n",
        "import webbrowser as w\n",
        "\n",
        "w.open('www.fb.com') \n"
      ],
      "metadata": {
        "colab": {
          "base_uri": "https://localhost:8080/"
        },
        "id": "a8eATYvnCdyn",
        "outputId": "dc4742a5-750f-43e5-ec87-691cedb0caf5"
      },
      "execution_count": 12,
      "outputs": [
        {
          "output_type": "execute_result",
          "data": {
            "text/plain": [
              "False"
            ]
          },
          "metadata": {},
          "execution_count": 12
        }
      ]
    },
    {
      "cell_type": "code",
      "source": [
        "\n",
        "\n",
        "from pandas import read_csv\n",
        "url='https://github.com/cs109/2014_data/blob/master/countries.csv'\n",
        "data = read_csv(url, names=[2])\n",
        "print(data.shape)\n"
      ],
      "metadata": {
        "colab": {
          "base_uri": "https://localhost:8080/"
        },
        "id": "QSTDsGbACyNe",
        "outputId": "8c512b4b-1fdc-4679-a746-b1bf4ae8afae"
      },
      "execution_count": 13,
      "outputs": [
        {
          "output_type": "stream",
          "name": "stdout",
          "text": [
            "(2169, 1)\n"
          ]
        }
      ]
    },
    {
      "cell_type": "code",
      "source": [],
      "metadata": {
        "id": "wBrwqFpHC6wr"
      },
      "execution_count": null,
      "outputs": []
    }
  ]
}